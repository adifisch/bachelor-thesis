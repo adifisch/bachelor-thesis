{
 "cells": [
  {
   "cell_type": "code",
   "execution_count": 20,
   "metadata": {},
   "outputs": [],
   "source": [
    "import numpy as np\n",
    "import pandas as pd\n",
    "import matplotlib.pyplot as plt\n",
    "import tqdm as tqdm\n",
    "import json\n",
    "from os import walk, path"
   ]
  },
  {
   "cell_type": "code",
   "execution_count": 21,
   "metadata": {},
   "outputs": [],
   "source": [
    "target_dirs = ['../data/unpack-faq/json', '../data/unpack-faq/home/ssds/start-faq-refresh/json']\n",
    "files = []\n",
    "file_infos = []"
   ]
  },
  {
   "cell_type": "code",
   "execution_count": 23,
   "metadata": {},
   "outputs": [],
   "source": [
    "for dataDir in target_dirs:\n",
    "    for (root, dirnames, filenames) in walk(dataDir):\n",
    "        for file in filenames:\n",
    "            files.append(dataDir + '/' + file)"
   ]
  },
  {
   "cell_type": "code",
   "execution_count": 24,
   "metadata": {},
   "outputs": [],
   "source": [
    "for file in files:\n",
    "    info = open(file, mode='r',encoding=\"utf8\")\n",
    "    tmp = info.read()\n",
    "    tmp = tmp.replace(\"x84\",' ')\n",
    "    tmp = tmp.replace(\"\\\\\",'')\n",
    "    tmp = tmp.replace(\"xa0\",' ')\n",
    "    tmp = tmp.replace(\"\\\\\",'')\n",
    "    tmp = tmp.strip()\n",
    "    file_infos.append(tmp)\n",
    "    info.close()"
   ]
  },
  {
   "cell_type": "code",
   "execution_count": 25,
   "metadata": {},
   "outputs": [],
   "source": [
    "file_infos = list(map(json.loads, file_infos))"
   ]
  },
  {
   "cell_type": "code",
   "execution_count": 26,
   "metadata": {},
   "outputs": [],
   "source": [
    "for file_id, file in enumerate(file_infos):\n",
    "    file_infos[file_id]['answer'] = file['responses'][0]['messages'][0]['speech']\n",
    "    file_infos[file_id]['question'] = file['faqQuestionMain']"
   ]
  },
  {
   "cell_type": "code",
   "execution_count": 27,
   "metadata": {},
   "outputs": [
    {
     "data": {
      "text/html": [
       "<div>\n",
       "<style scoped>\n",
       "    .dataframe tbody tr th:only-of-type {\n",
       "        vertical-align: middle;\n",
       "    }\n",
       "\n",
       "    .dataframe tbody tr th {\n",
       "        vertical-align: top;\n",
       "    }\n",
       "\n",
       "    .dataframe thead th {\n",
       "        text-align: right;\n",
       "    }\n",
       "</style>\n",
       "<table border=\"1\" class=\"dataframe\">\n",
       "  <thead>\n",
       "    <tr style=\"text-align: right;\">\n",
       "      <th></th>\n",
       "      <th>userSays</th>\n",
       "      <th>id</th>\n",
       "      <th>name</th>\n",
       "      <th>updateTimestamp</th>\n",
       "      <th>sourceName</th>\n",
       "      <th>sourceUrl</th>\n",
       "      <th>faqQuestionMain</th>\n",
       "      <th>faqLabels</th>\n",
       "      <th>auto</th>\n",
       "      <th>contexts</th>\n",
       "      <th>responses</th>\n",
       "      <th>priority</th>\n",
       "      <th>webhookUsed</th>\n",
       "      <th>webhookForSlotFilling</th>\n",
       "      <th>fallbackIntent</th>\n",
       "      <th>events</th>\n",
       "      <th>answer</th>\n",
       "      <th>question</th>\n",
       "    </tr>\n",
       "  </thead>\n",
       "  <tbody>\n",
       "    <tr>\n",
       "      <th>0</th>\n",
       "      <td>[{'id': '[14, 60, 82, -17, 15, 48, 16, -106, 3...</td>\n",
       "      <td>[40, 100, 23, 99, 81, 112, 89, -102, -65, -84,...</td>\n",
       "      <td>intent.corona.faq.bb.102578600183910</td>\n",
       "      <td>26.06.2020 18:07</td>\n",
       "      <td>Der Regierende Bürgermeister von Berlin - Sena...</td>\n",
       "      <td>https://www.berlin.de/corona/faq/#faq_1_6</td>\n",
       "      <td>Ich bekomme ein Kind. Darf mich jemand begleit...</td>\n",
       "      <td>[]</td>\n",
       "      <td>True</td>\n",
       "      <td>[]</td>\n",
       "      <td>[{'resetContexts': False, 'action': 'action.co...</td>\n",
       "      <td>500000</td>\n",
       "      <td>False</td>\n",
       "      <td>False</td>\n",
       "      <td>False</td>\n",
       "      <td>[]</td>\n",
       "      <td>Werdende Mütter dürfen sich zur Geburt im Kran...</td>\n",
       "      <td>Ich bekomme ein Kind. Darf mich jemand begleit...</td>\n",
       "    </tr>\n",
       "    <tr>\n",
       "      <th>1</th>\n",
       "      <td>[{'id': '[14, -86, 124, -97, -81, -25, -59, -6...</td>\n",
       "      <td>[72, -34, -59, -14, 122, -13, -53, -89, 86, -3...</td>\n",
       "      <td>intent.corona.faq.bb.105679408786464</td>\n",
       "      <td>05.05.2020 21:50</td>\n",
       "      <td>Der Regierende Bürgermeister von Berlin - Sena...</td>\n",
       "      <td>https://www.berlin.de/corona/faq/#faq_1_14</td>\n",
       "      <td>Wo kann ich einkaufen gehen und was ist darübe...</td>\n",
       "      <td>[]</td>\n",
       "      <td>True</td>\n",
       "      <td>[]</td>\n",
       "      <td>[{'resetContexts': False, 'action': 'action.co...</td>\n",
       "      <td>500000</td>\n",
       "      <td>False</td>\n",
       "      <td>False</td>\n",
       "      <td>False</td>\n",
       "      <td>[]</td>\n",
       "      <td>Verkaufsstellen von einer Größe bis zu 800 m² ...</td>\n",
       "      <td>Wo kann ich einkaufen gehen und was ist darübe...</td>\n",
       "    </tr>\n",
       "  </tbody>\n",
       "</table>\n",
       "</div>"
      ],
      "text/plain": [
       "                                            userSays  \\\n",
       "0  [{'id': '[14, 60, 82, -17, 15, 48, 16, -106, 3...   \n",
       "1  [{'id': '[14, -86, 124, -97, -81, -25, -59, -6...   \n",
       "\n",
       "                                                  id  \\\n",
       "0  [40, 100, 23, 99, 81, 112, 89, -102, -65, -84,...   \n",
       "1  [72, -34, -59, -14, 122, -13, -53, -89, 86, -3...   \n",
       "\n",
       "                                   name   updateTimestamp  \\\n",
       "0  intent.corona.faq.bb.102578600183910  26.06.2020 18:07   \n",
       "1  intent.corona.faq.bb.105679408786464  05.05.2020 21:50   \n",
       "\n",
       "                                          sourceName  \\\n",
       "0  Der Regierende Bürgermeister von Berlin - Sena...   \n",
       "1  Der Regierende Bürgermeister von Berlin - Sena...   \n",
       "\n",
       "                                    sourceUrl  \\\n",
       "0   https://www.berlin.de/corona/faq/#faq_1_6   \n",
       "1  https://www.berlin.de/corona/faq/#faq_1_14   \n",
       "\n",
       "                                     faqQuestionMain faqLabels  auto contexts  \\\n",
       "0  Ich bekomme ein Kind. Darf mich jemand begleit...        []  True       []   \n",
       "1  Wo kann ich einkaufen gehen und was ist darübe...        []  True       []   \n",
       "\n",
       "                                           responses  priority  webhookUsed  \\\n",
       "0  [{'resetContexts': False, 'action': 'action.co...    500000        False   \n",
       "1  [{'resetContexts': False, 'action': 'action.co...    500000        False   \n",
       "\n",
       "   webhookForSlotFilling  fallbackIntent events  \\\n",
       "0                  False           False     []   \n",
       "1                  False           False     []   \n",
       "\n",
       "                                              answer  \\\n",
       "0  Werdende Mütter dürfen sich zur Geburt im Kran...   \n",
       "1  Verkaufsstellen von einer Größe bis zu 800 m² ...   \n",
       "\n",
       "                                            question  \n",
       "0  Ich bekomme ein Kind. Darf mich jemand begleit...  \n",
       "1  Wo kann ich einkaufen gehen und was ist darübe...  "
      ]
     },
     "execution_count": 27,
     "metadata": {},
     "output_type": "execute_result"
    }
   ],
   "source": [
    "file_infos_df = pd.DataFrame(file_infos)\n",
    "file_infos_df.head(n=2)"
   ]
  },
  {
   "cell_type": "code",
   "execution_count": 28,
   "metadata": {},
   "outputs": [],
   "source": [
    "del file_infos_df['userSays']\n",
    "del file_infos_df['faqQuestionMain']\n",
    "del file_infos_df['responses']\n",
    "del file_infos_df['auto']\n",
    "del file_infos_df['priority']\n",
    "del file_infos_df['webhookUsed']\n",
    "del file_infos_df['webhookForSlotFilling']\n",
    "del file_infos_df['fallbackIntent']\n",
    "del file_infos_df['events']"
   ]
  },
  {
   "cell_type": "code",
   "execution_count": 29,
   "metadata": {},
   "outputs": [],
   "source": [
    "del file_infos_df['updateTimestamp']\n",
    "del file_infos_df['id']\n",
    "del file_infos_df['contexts']"
   ]
  },
  {
   "cell_type": "code",
   "execution_count": 42,
   "metadata": {},
   "outputs": [],
   "source": [
    "len(file_infos_df.loc[3558]['question'])\n",
    "file_infos_df = file_infos_df.drop(3558)"
   ]
  },
  {
   "cell_type": "code",
   "execution_count": 43,
   "metadata": {},
   "outputs": [],
   "source": [
    "file_infos_df.to_csv('../data/faq_info.csv', index=None, header=True)"
   ]
  }
 ],
 "metadata": {
  "kernelspec": {
   "display_name": "Python 3",
   "language": "python",
   "name": "python3"
  },
  "language_info": {
   "codemirror_mode": {
    "name": "ipython",
    "version": 3
   },
   "file_extension": ".py",
   "mimetype": "text/x-python",
   "name": "python",
   "nbconvert_exporter": "python",
   "pygments_lexer": "ipython3",
   "version": "3.7.9"
  },
  "orig_nbformat": 4,
  "vscode": {
   "interpreter": {
    "hash": "2931d21d056fbb417b13f70515e99f7cc9c60ee7d73a572131b198d23e9dd3a8"
   }
  }
 },
 "nbformat": 4,
 "nbformat_minor": 2
}
