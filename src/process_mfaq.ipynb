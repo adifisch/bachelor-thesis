{
 "cells": [
  {
   "cell_type": "code",
   "execution_count": 1,
   "metadata": {},
   "outputs": [
    {
     "name": "stderr",
     "output_type": "stream",
     "text": [
      "C:\\Users\\Adam\\AppData\\Local\\Packages\\PythonSoftwareFoundation.Python.3.7_qbz5n2kfra8p0\\LocalCache\\local-packages\\Python37\\site-packages\\tqdm\\auto.py:22: TqdmWarning: IProgress not found. Please update jupyter and ipywidgets. See https://ipywidgets.readthedocs.io/en/stable/user_install.html\n",
      "  from .autonotebook import tqdm as notebook_tqdm\n"
     ]
    }
   ],
   "source": [
    "from datasets import load_dataset,concatenate_datasets"
   ]
  },
  {
   "cell_type": "code",
   "execution_count": 8,
   "metadata": {},
   "outputs": [
    {
     "name": "stderr",
     "output_type": "stream",
     "text": [
      "Found cached dataset mfaq (C:/Users/Adam/.cache/huggingface/datasets/clips___mfaq/de_flat/1.1.0/046d91e0a0390af15e8521190b906d67fd3d4440839559764d1659f48a8dbe7c)\n"
     ]
    }
   ],
   "source": [
    "mfaq_dataset = load_dataset(\"clips/mfaq\",\"de_flat\", split='validation')"
   ]
  },
  {
   "cell_type": "code",
   "execution_count": 3,
   "metadata": {},
   "outputs": [],
   "source": [
    "mfaq_dataset = mfaq_dataset.remove_columns([\"domain_id\", \"pair_id\",\"language\",\"domain\"])"
   ]
  },
  {
   "cell_type": "code",
   "execution_count": 4,
   "metadata": {},
   "outputs": [],
   "source": [
    "nomatch = mfaq_dataset.shard(num_shards=2,index=0)\n",
    "match = mfaq_dataset.shard(num_shards=2,index=1)"
   ]
  },
  {
   "cell_type": "code",
   "execution_count": 5,
   "metadata": {},
   "outputs": [
    {
     "name": "stderr",
     "output_type": "stream",
     "text": [
      "Loading cached processed dataset at C:\\Users\\Adam\\.cache\\huggingface\\datasets\\clips___mfaq\\de_flat\\1.1.0\\046d91e0a0390af15e8521190b906d67fd3d4440839559764d1659f48a8dbe7c\\cache-f1cb4cf43c86abe8.arrow\n",
      "Flattening the indices: 100%|██████████| 407/407 [00:12<00:00, 31.38ba/s]\n"
     ]
    }
   ],
   "source": [
    "single_col = 'question'  # specify the column name here\n",
    "dset_single_col = nomatch.remove_columns([col for col in nomatch.column_names if col != single_col])\n",
    "dset_single_col_shuffled = dset_single_col.shuffle()\n",
    "dset_without_single_col = nomatch.remove_columns([single_col])\n",
    "nomatch = concatenate_datasets([dset_without_single_col, dset_single_col_shuffled], axis=1)\n",
    "matching = [0] * len(nomatch)\n",
    "nomatch = nomatch.add_column(\"matching\", matching)"
   ]
  },
  {
   "cell_type": "code",
   "execution_count": 6,
   "metadata": {},
   "outputs": [
    {
     "name": "stderr",
     "output_type": "stream",
     "text": [
      "Loading cached processed dataset at C:\\Users\\Adam\\.cache\\huggingface\\datasets\\clips___mfaq\\de_flat\\1.1.0\\046d91e0a0390af15e8521190b906d67fd3d4440839559764d1659f48a8dbe7c\\cache-b149b78e943fc7df.arrow\n"
     ]
    }
   ],
   "source": [
    "matching = [1] * len(match)\n",
    "match = match.add_column(\"matching\", matching)"
   ]
  },
  {
   "cell_type": "code",
   "execution_count": 7,
   "metadata": {},
   "outputs": [
    {
     "data": {
      "text/plain": [
       "Dataset({\n",
       "    features: ['question', 'answer', 'matching'],\n",
       "    num_rows: 812837\n",
       "})"
      ]
     },
     "execution_count": 7,
     "metadata": {},
     "output_type": "execute_result"
    }
   ],
   "source": [
    "mfaq_dataset = concatenate_datasets([match, nomatch]).shuffle()\n",
    "#mfaq_dataset.save_to_disk('data/mfaq_dataset_train')\n",
    "mfaq_dataset"
   ]
  }
 ],
 "metadata": {
  "kernelspec": {
   "display_name": "Python 3",
   "language": "python",
   "name": "python3"
  },
  "language_info": {
   "codemirror_mode": {
    "name": "ipython",
    "version": 3
   },
   "file_extension": ".py",
   "mimetype": "text/x-python",
   "name": "python",
   "nbconvert_exporter": "python",
   "pygments_lexer": "ipython3",
   "version": "3.7.9"
  },
  "orig_nbformat": 4
 },
 "nbformat": 4,
 "nbformat_minor": 2
}
