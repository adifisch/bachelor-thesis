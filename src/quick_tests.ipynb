{
 "cells": [
  {
   "cell_type": "code",
   "execution_count": 241,
   "metadata": {},
   "outputs": [],
   "source": [
    "import torch\n",
    "import numpy as np\n",
    "import pandas as pd\n",
    "from io import StringIO\n",
    "from html.parser import HTMLParser"
   ]
  },
  {
   "cell_type": "code",
   "execution_count": 242,
   "metadata": {},
   "outputs": [],
   "source": [
    "class MLStripper(HTMLParser):\n",
    "    def __init__(self):\n",
    "        super().__init__()\n",
    "        self.reset()\n",
    "        self.strict = False\n",
    "        self.convert_charrefs= True\n",
    "        self.text = StringIO()\n",
    "    def handle_data(self, d):\n",
    "        self.text.write(d)\n",
    "    def get_data(self):\n",
    "        return self.text.getvalue()\n",
    "\n",
    "def strip_tags(html):\n",
    "    s = MLStripper()\n",
    "    s.feed(html)\n",
    "    return s.get_data()"
   ]
  },
  {
   "cell_type": "code",
   "execution_count": 243,
   "metadata": {},
   "outputs": [],
   "source": [
    "custom_data = '../data/faq_info_labels.csv'\n",
    "qna_data = pd.read_csv(custom_data)\n",
    "qna_data = qna_data.drop(4328)\n",
    "qna_data = qna_data.drop(2591)\n",
    "qna_data = qna_data.drop(6019)\n",
    "qna_data['question'] = qna_data['question'].map(lambda x: strip_tags(x))\n",
    "qna_data['answer'] = qna_data['answer'].map(lambda x: strip_tags(x))"
   ]
  },
  {
   "cell_type": "code",
   "execution_count": 244,
   "metadata": {},
   "outputs": [
    {
     "data": {
      "text/plain": [
       "[]"
      ]
     },
     "execution_count": 244,
     "metadata": {},
     "output_type": "execute_result"
    }
   ],
   "source": [
    "#qna_data.iloc[4328]['answer']\n",
    "qna_data.index[qna_data['question'] == 'Wie startet die Schule nach den Sommerferien?'].tolist()"
   ]
  },
  {
   "cell_type": "code",
   "execution_count": 245,
   "metadata": {},
   "outputs": [],
   "source": [
    "\n",
    "qna_data['question'] = qna_data['question'].str.replace('\\(*Stand:*\\s*\\d+\\.\\d+\\.\\d+(,\\s*\\d*:*\\d*\\s*\\w*)*\\)+', '', regex=True);\n",
    "qna_data['answer'] = qna_data['answer'].str.replace('\\(*Stand:*\\s*\\d+\\.\\d+\\.\\d+(,\\s*\\d*:*\\d*\\s*\\w*)*\\)+', '', regex=True);\n",
    "qna_data['question'] = qna_data['question'].str.replace('\\(*Stand:*\\s*\\d+\\.\\d+\\.\\d+(,\\s*\\d*\\.*\\d*\\s*\\w*)*\\)+', '', regex=True);\n",
    "qna_data['answer'] = qna_data['answer'].str.replace('\\(*Stand:*\\s*\\d+\\.\\d+\\.\\d+(,\\s*\\d*\\.*\\d*\\s*\\w*)*\\)+', '', regex=True);\n",
    "qna_data['question'] = qna_data['question'].str.replace('\\(*Stand:*\\s*\\d+\\.\\d+\\.\\d+(,\\s*\\d*:*\\d*\\s*\\w*)*\\)*', '', regex=True);\n",
    "qna_data['answer'] = qna_data['answer'].str.replace('\\(*Stand:*\\s*\\d+\\.\\d+\\.\\d+(,\\s*\\d*:*\\d*\\s*\\w*)*\\)*', '', regex=True);\n",
    "qna_data['question'] = qna_data['question'].str.replace('\\(*Stand:*\\s*\\d+\\.\\d+\\.\\d+(,\\s*\\d*\\.*\\d*\\s*\\w*)*\\)*', '', regex=True);\n",
    "qna_data['answer'] = qna_data['answer'].str.replace('\\(*Stand:*\\s*\\d+\\.\\d+\\.\\d+(,\\s*\\d*\\.*\\d*\\s*\\w*)*\\)*', '', regex=True);\n",
    "\n",
    "qna_data['question'] = qna_data['question'].str.replace('\\(*Stand:\\s*\\d+\\.*\\s*\\w*\\.*\\s*\\d+(,\\s*\\d+:\\d+\\s*\\w*)*\\)*', '', regex=True);\n",
    "qna_data['answer'] = qna_data['answer'].str.replace('\\(*Stand:\\s*\\d+\\.*\\s*\\w*\\.*\\s*\\d+(,\\s*\\d+:\\d+\\s*\\w*)*\\)*', '', regex=True);\n",
    "\n",
    "qna_data['question'] = qna_data['question'].str.replace('\\(*Frage\\s*und\\s*Antwort\\s*angepasst\\s*am\\s*\\d+\\.*\\s*\\w*\\.*\\s*\\d+(,\\s*\\d+:\\d+\\s*\\w*)*\\)*', '', regex=True);\n",
    "qna_data['answer'] = qna_data['answer'].str.replace('\\(*Frage\\s*und\\s*Antwort\\s*angepasst\\s*am\\s*\\d+\\.*\\s*\\w*\\.*\\s*\\d+(,\\s*\\d+:\\d+\\s*\\w*)*\\)*', '', regex=True);\n",
    "\n",
    "qna_data['question'] = qna_data['question'].str.replace('\\(*Frage\\s*angepasst\\s*am\\s*\\d+\\.*\\s*\\w*\\.*\\s*\\d+(,\\s*\\d+:\\d+\\s*\\w*)*\\)*', '', regex=True);\n",
    "qna_data['answer'] = qna_data['answer'].str.replace('\\(*Frage\\s*angepasst\\s*am\\s*\\d+\\.*\\s*\\w*\\.*\\s*\\d+(,\\s*\\d+:\\d+\\s*\\w*)*\\)*', '', regex=True);\n",
    "\n",
    "qna_data['question'] = qna_data['question'].str.replace('\\(*Neue\\s*Frage\\s*vom\\s*\\d+\\.*\\s*\\w*\\.*\\s*\\d+(,\\s*\\d+:\\d+\\s*\\w*)*\\)*', '', regex=True);\n",
    "qna_data['answer'] = qna_data['answer'].str.replace('\\(*Neue\\s*Frage\\s*vom\\s*\\d+\\.*\\s*\\w*\\.*\\s*\\d+(,\\s*\\d+:\\d+\\s*\\w*)*\\)*', '', regex=True);\n",
    "\n",
    "qna_data['question'] = qna_data['question'].str.replace('\\(*Antwort\\s*angepasst\\s*am\\s*\\d+\\.*\\s*\\w*\\.*\\s*\\d+(,\\s*\\d+:\\d+\\s*\\w*)*\\)*', '', regex=True);\n",
    "qna_data['answer'] = qna_data['answer'].str.replace('\\(*Antwort\\s*angepasst\\s*am\\s*\\d+\\.*\\s*\\w*\\.*\\s*\\d+(,\\s*\\d+:\\d+\\s*\\w*)*\\)*', '', regex=True);\n",
    "\n",
    "qna_data['question'] = qna_data['question'].str.replace('\\(*Antwort\\s*ergänzt\\s*am\\s*\\d+\\.*\\s*\\w*\\.*\\s*\\d+(,\\s*\\d+:\\d+\\s*\\w*)*\\)*', '', regex=True);\n",
    "qna_data['answer'] = qna_data['answer'].str.replace('\\(*Antwort\\s*ergänzt\\s*am\\s*\\d+\\.*\\s*\\w*\\.*\\s*\\d+(,\\s*\\d+:\\d+\\s*\\w*)*\\)*', '', regex=True);\n",
    "\n",
    "qna_data['question'] = qna_data['question'].str.replace('\\(+\\d+\\.*\\s*\\w*\\.*\\s*\\d+(,\\s*\\d+:\\d+\\s*\\w*)*\\)+', '', regex=True);\n",
    "qna_data['answer'] = qna_data['answer'].str.replace('\\(+\\d+\\.*\\s*\\w*\\.*\\s*\\d+(,\\s*\\d+:\\d+\\s*\\w*)*\\)+', '', regex=True);\n",
    "qna_data['question'] = qna_data['question'].str.replace('\\(+\\d+\\.*\\s*\\d*\\.*\\s*\\d+(,\\s*\\d+:\\d+\\s*\\w*)*\\)+', '', regex=True);\n",
    "qna_data['answer'] = qna_data['answer'].str.replace('\\(+\\d+\\.*\\s*\\d*\\.*\\s*\\d+(,\\s*\\d+:\\d+\\s*\\w*)*\\)+', '', regex=True);\n",
    "\n",
    "qna_data['question'] = qna_data['question'].str.replace('\\(+\\d+\\.*\\s*\\w*\\.*\\s*\\d+(,\\s*\\d+\\.*\\d+\\s*\\w*)*\\)+', '', regex=True);\n",
    "qna_data['answer'] = qna_data['answer'].str.replace('\\(+\\d+\\.*\\s*\\w*\\.*\\s*\\d+(,\\s*\\d+\\.*\\d+\\s*\\w*)*\\)+', '', regex=True);\n",
    "qna_data['question'] = qna_data['question'].str.replace('\\(+\\d+\\.*\\s*\\d*\\.*\\s*\\d+(,\\s*\\d+\\.*\\d+\\s*\\w*)*\\)+', '', regex=True);\n",
    "qna_data['answer'] = qna_data['answer'].str.replace('\\(+\\d+\\.*\\s*\\d*\\.*\\s*\\d+(,\\s*\\d+\\.*\\d+\\s*\\w*)*\\)+', '', regex=True);\n"
   ]
  },
  {
   "cell_type": "code",
   "execution_count": 246,
   "metadata": {},
   "outputs": [],
   "source": [
    "qna_data.to_csv('../data/faq_info_nodate.csv', index=None, header=True)"
   ]
  },
  {
   "cell_type": "code",
   "execution_count": 247,
   "metadata": {},
   "outputs": [],
   "source": [
    "\n",
    "answers = qna_data.loc[qna_data['answer'].str.contains(\"^\\(\", case=False)]\n",
    "questions = qna_data.loc[qna_data['question'].str.contains(\"^\\(\", case=False)]"
   ]
  }
 ],
 "metadata": {
  "kernelspec": {
   "display_name": "Python 3",
   "language": "python",
   "name": "python3"
  },
  "language_info": {
   "codemirror_mode": {
    "name": "ipython",
    "version": 3
   },
   "file_extension": ".py",
   "mimetype": "text/x-python",
   "name": "python",
   "nbconvert_exporter": "python",
   "pygments_lexer": "ipython3",
   "version": "3.7.9"
  },
  "orig_nbformat": 4
 },
 "nbformat": 4,
 "nbformat_minor": 2
}
